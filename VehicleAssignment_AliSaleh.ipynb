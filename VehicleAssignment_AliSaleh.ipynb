{
 "cells": [
  {
   "cell_type": "code",
   "execution_count": 26,
   "id": "b62cfd8e",
   "metadata": {},
   "outputs": [],
   "source": [
    "#Based on my findings and personal preference the best vehicle to buy would be:\n",
    "#1.**Used 2016 Dodge Journey AWD SE** (Number 300 in the listings)\n",
    "#2.Used 2016 Dodge Journey AWD SE (Number 244)\n",
    "#3.Used 2015 Dodge Journey AWD R/T(Number 303)\n",
    "\n"
   ]
  },
  {
   "cell_type": "code",
   "execution_count": 3,
   "id": "76f99b78",
   "metadata": {},
   "outputs": [],
   "source": [
    "#Imported relevant libraries\n",
    "import zipfile\n",
    "import xml.etree.ElementTree as ET\n",
    "import pandas as pd"
   ]
  },
  {
   "cell_type": "code",
   "execution_count": 4,
   "id": "30294d4c",
   "metadata": {},
   "outputs": [],
   "source": [
    "#Converted pdf file to word externally via Adobe\n",
    "doc = zipfile.ZipFile('Vehicles.docx').read('word/document.xml')\n",
    "root = ET.fromstring(doc)"
   ]
  },
  {
   "cell_type": "code",
   "execution_count": 5,
   "id": "9945a098",
   "metadata": {},
   "outputs": [],
   "source": [
    "ns = {'w': 'http://schemas.openxmlformats.org/wordprocessingml/2006/main'}\n",
    "body = root.find('w:body', ns)  # find the XML \"body\" tag\n",
    "p_sections = body.findall('w:p', ns)  # under the body tag, find all the paragraph sections"
   ]
  },
  {
   "cell_type": "code",
   "execution_count": 7,
   "id": "c44fce1f",
   "metadata": {},
   "outputs": [],
   "source": [
    "for p in p_sections:\n",
    "    text_elems = p.findall('.//w:t', ns)"
   ]
  },
  {
   "cell_type": "code",
   "execution_count": 5,
   "id": "7f7ade48",
   "metadata": {},
   "outputs": [],
   "source": [
    "def is_heading2_section(p):\n",
    "    \"\"\"Returns True if the given paragraph section has been styled as a Heading2\"\"\"\n",
    "    return_val = False\n",
    "    heading_style_elem = p.find(\".//w:pStyle[@w:val='Heading2']\", ns)\n",
    "    if heading_style_elem is not None:\n",
    "        return_val = True\n",
    "    return return_val\n",
    " \n",
    " \n",
    "def get_section_text(p):\n",
    "    \"\"\"Returns the joined text of the text elements under the given paragraph tag\"\"\"\n",
    "    return_val = ''\n",
    "    text_elems = p.findall('.//w:t', ns)\n",
    "    if text_elems is not None:\n",
    "        return_val = ''.join([t.text for t in text_elems])\n",
    "    return return_val\n",
    " \n",
    " \n",
    "section_labels = [get_section_text(s) if is_heading2_section(s) else '' for s in p_sections]\n"
   ]
  },
  {
   "cell_type": "code",
   "execution_count": 10,
   "id": "63b02067",
   "metadata": {},
   "outputs": [],
   "source": [
    "section_text = [{'Car_Description': t, 'Car_price': get_section_text(p_sections[i+1])} for i, t in enumerate(section_labels) if len(t) > 0]"
   ]
  },
  {
   "cell_type": "code",
   "execution_count": 11,
   "id": "771e33b8",
   "metadata": {},
   "outputs": [],
   "source": [
    "df = pd.DataFrame(section_text)"
   ]
  },
  {
   "cell_type": "code",
   "execution_count": 12,
   "id": "3b1af6db",
   "metadata": {},
   "outputs": [
    {
     "data": {
      "text/html": [
       "<div>\n",
       "<style scoped>\n",
       "    .dataframe tbody tr th:only-of-type {\n",
       "        vertical-align: middle;\n",
       "    }\n",
       "\n",
       "    .dataframe tbody tr th {\n",
       "        vertical-align: top;\n",
       "    }\n",
       "\n",
       "    .dataframe thead th {\n",
       "        text-align: right;\n",
       "    }\n",
       "</style>\n",
       "<table border=\"1\" class=\"dataframe\">\n",
       "  <thead>\n",
       "    <tr style=\"text-align: right;\">\n",
       "      <th></th>\n",
       "      <th>Car_Description</th>\n",
       "      <th>Car_price</th>\n",
       "    </tr>\n",
       "  </thead>\n",
       "  <tbody>\n",
       "    <tr>\n",
       "      <th>0</th>\n",
       "      <td>Certified 2015 Dodge Journey FWD</td>\n",
       "      <td>11,645</td>\n",
       "    </tr>\n",
       "    <tr>\n",
       "      <th>1</th>\n",
       "      <td>Certified 2020 Dodge Journey FWD Crossroad</td>\n",
       "      <td>18,561</td>\n",
       "    </tr>\n",
       "    <tr>\n",
       "      <th>2</th>\n",
       "      <td>Used 2018 Dodge Journey AWD GT</td>\n",
       "      <td>18,520</td>\n",
       "    </tr>\n",
       "    <tr>\n",
       "      <th>3</th>\n",
       "      <td>Used 2019 Dodge Journey AWD Crossroad</td>\n",
       "      <td>18,995</td>\n",
       "    </tr>\n",
       "    <tr>\n",
       "      <th>4</th>\n",
       "      <td>Used 2018 Dodge Journey AWD GT</td>\n",
       "      <td>19,995</td>\n",
       "    </tr>\n",
       "  </tbody>\n",
       "</table>\n",
       "</div>"
      ],
      "text/plain": [
       "                              Car_Description Car_price\n",
       "0            Certified 2015 Dodge Journey FWD    11,645\n",
       "1  Certified 2020 Dodge Journey FWD Crossroad    18,561\n",
       "2              Used 2018 Dodge Journey AWD GT    18,520\n",
       "3       Used 2019 Dodge Journey AWD Crossroad    18,995\n",
       "4              Used 2018 Dodge Journey AWD GT    19,995"
      ]
     },
     "execution_count": 12,
     "metadata": {},
     "output_type": "execute_result"
    }
   ],
   "source": [
    "df.head()"
   ]
  },
  {
   "cell_type": "code",
   "execution_count": 16,
   "id": "45b9871e",
   "metadata": {},
   "outputs": [],
   "source": [
    "##A second column was made due to prices that were not listed and listings that included actual price and MSRP\n",
    "##Miles listed under Price column were later removed in Excel\n",
    "df['Price'] = df.Car_price.str.extract('([+-.0-9]+)(.*)').drop(1,axis=1)\n",
    "df.dropna(inplace= True)"
   ]
  },
  {
   "cell_type": "code",
   "execution_count": 17,
   "id": "bded0b8b",
   "metadata": {},
   "outputs": [],
   "source": [
    "df['Price'] = df['Price'].str.replace(',', '').astype(int)"
   ]
  },
  {
   "cell_type": "code",
   "execution_count": 19,
   "id": "71bcc17e",
   "metadata": {},
   "outputs": [
    {
     "data": {
      "text/html": [
       "<div>\n",
       "<style scoped>\n",
       "    .dataframe tbody tr th:only-of-type {\n",
       "        vertical-align: middle;\n",
       "    }\n",
       "\n",
       "    .dataframe tbody tr th {\n",
       "        vertical-align: top;\n",
       "    }\n",
       "\n",
       "    .dataframe thead th {\n",
       "        text-align: right;\n",
       "    }\n",
       "</style>\n",
       "<table border=\"1\" class=\"dataframe\">\n",
       "  <thead>\n",
       "    <tr style=\"text-align: right;\">\n",
       "      <th></th>\n",
       "      <th>Car_Description</th>\n",
       "      <th>Car_price</th>\n",
       "      <th>Price</th>\n",
       "    </tr>\n",
       "  </thead>\n",
       "  <tbody>\n",
       "    <tr>\n",
       "      <th>156</th>\n",
       "      <td>Used 2009 Dodge Journey SE</td>\n",
       "      <td>3,500</td>\n",
       "      <td>3500</td>\n",
       "    </tr>\n",
       "    <tr>\n",
       "      <th>87</th>\n",
       "      <td>Used 2010 Dodge Journey SE</td>\n",
       "      <td>3,900</td>\n",
       "      <td>3900</td>\n",
       "    </tr>\n",
       "    <tr>\n",
       "      <th>86</th>\n",
       "      <td>Used 2010 Dodge Journey SE</td>\n",
       "      <td>3,995</td>\n",
       "      <td>3995</td>\n",
       "    </tr>\n",
       "    <tr>\n",
       "      <th>253</th>\n",
       "      <td>Used 2009 Dodge Journey SXT</td>\n",
       "      <td>4,695</td>\n",
       "      <td>4695</td>\n",
       "    </tr>\n",
       "    <tr>\n",
       "      <th>226</th>\n",
       "      <td>Used 2009 Dodge Journey SXT</td>\n",
       "      <td>4,900</td>\n",
       "      <td>4900</td>\n",
       "    </tr>\n",
       "    <tr>\n",
       "      <th>...</th>\n",
       "      <td>...</td>\n",
       "      <td>...</td>\n",
       "      <td>...</td>\n",
       "    </tr>\n",
       "    <tr>\n",
       "      <th>195</th>\n",
       "      <td>Used 2017 Dodge Journey FWD SXT</td>\n",
       "      <td>Contact Dealer For Price 107,526 miles</td>\n",
       "      <td>107526</td>\n",
       "    </tr>\n",
       "    <tr>\n",
       "      <th>316</th>\n",
       "      <td>Used 2010 Dodge Journey 2WD SXT w/ Convenience...</td>\n",
       "      <td>Contact Dealer For Price 141,956 miles</td>\n",
       "      <td>141956</td>\n",
       "    </tr>\n",
       "    <tr>\n",
       "      <th>93</th>\n",
       "      <td>Used 2012 Dodge Journey SXT</td>\n",
       "      <td>Contact Dealer For Price 154,134 miles</td>\n",
       "      <td>154134</td>\n",
       "    </tr>\n",
       "    <tr>\n",
       "      <th>314</th>\n",
       "      <td>Used 2012 Dodge Journey FWD</td>\n",
       "      <td>Contact Dealer For Price 160,042 miles</td>\n",
       "      <td>160042</td>\n",
       "    </tr>\n",
       "    <tr>\n",
       "      <th>330</th>\n",
       "      <td>Used 2011 Dodge Journey R/T</td>\n",
       "      <td>Contact Dealer For Price 183,127 miles</td>\n",
       "      <td>183127</td>\n",
       "    </tr>\n",
       "  </tbody>\n",
       "</table>\n",
       "<p>325 rows × 3 columns</p>\n",
       "</div>"
      ],
      "text/plain": [
       "                                       Car_Description  \\\n",
       "156                         Used 2009 Dodge Journey SE   \n",
       "87                          Used 2010 Dodge Journey SE   \n",
       "86                          Used 2010 Dodge Journey SE   \n",
       "253                        Used 2009 Dodge Journey SXT   \n",
       "226                        Used 2009 Dodge Journey SXT   \n",
       "..                                                 ...   \n",
       "195                    Used 2017 Dodge Journey FWD SXT   \n",
       "316  Used 2010 Dodge Journey 2WD SXT w/ Convenience...   \n",
       "93                         Used 2012 Dodge Journey SXT   \n",
       "314                        Used 2012 Dodge Journey FWD   \n",
       "330                        Used 2011 Dodge Journey R/T   \n",
       "\n",
       "                                  Car_price   Price  \n",
       "156                                   3,500    3500  \n",
       "87                                    3,900    3900  \n",
       "86                                    3,995    3995  \n",
       "253                                   4,695    4695  \n",
       "226                                   4,900    4900  \n",
       "..                                      ...     ...  \n",
       "195  Contact Dealer For Price 107,526 miles  107526  \n",
       "316  Contact Dealer For Price 141,956 miles  141956  \n",
       "93   Contact Dealer For Price 154,134 miles  154134  \n",
       "314  Contact Dealer For Price 160,042 miles  160042  \n",
       "330  Contact Dealer For Price 183,127 miles  183127  \n",
       "\n",
       "[325 rows x 3 columns]"
      ]
     },
     "execution_count": 19,
     "metadata": {},
     "output_type": "execute_result"
    }
   ],
   "source": [
    "df.sort_values('Price')"
   ]
  },
  {
   "cell_type": "code",
   "execution_count": 23,
   "id": "7028a973",
   "metadata": {},
   "outputs": [],
   "source": [
    "df.to_csv('Vehicles_assignment.csv')"
   ]
  },
  {
   "cell_type": "code",
   "execution_count": null,
   "id": "daa742cc",
   "metadata": {},
   "outputs": [],
   "source": [
    "##Exported Dataframe as a csv file to further filter and sort using Excel.\n",
    "##In Excel:\n",
    "    ## -  Duplicates were deleted\n",
    "    ## -  Price was filtered between to only include vehicles between 8000 and 12000 (Current Vechile would resell for $5,000 resulting in capital expense ~15000)\n",
    "    ## -  Car Description Included AWD only (For safer driving during winter)\n",
    "\n",
    "## The vehicle I chose is a great price considering it's low mileage, year and color."
   ]
  }
 ],
 "metadata": {
  "kernelspec": {
   "display_name": "Python 3 (ipykernel)",
   "language": "python",
   "name": "python3"
  },
  "language_info": {
   "codemirror_mode": {
    "name": "ipython",
    "version": 3
   },
   "file_extension": ".py",
   "mimetype": "text/x-python",
   "name": "python",
   "nbconvert_exporter": "python",
   "pygments_lexer": "ipython3",
   "version": "3.9.12"
  }
 },
 "nbformat": 4,
 "nbformat_minor": 5
}
